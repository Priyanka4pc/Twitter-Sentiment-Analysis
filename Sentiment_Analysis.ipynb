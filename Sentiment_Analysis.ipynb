{
 "cells": [
  {
   "cell_type": "code",
   "execution_count": 1,
   "metadata": {},
   "outputs": [],
   "source": [
    "# import all the required libraries\n",
    "import pandas as pd\n",
    "from bs4 import BeautifulSoup\n",
    "from nltk.tokenize import TweetTokenizer\n",
    "import nltk\n",
    "# nltk.download('stopwords')\n",
    "from nltk.corpus import stopwords\n",
    "import string\n",
    "# nltk.download('vader_lexicon')\n",
    "from nltk.sentiment.vader import SentimentIntensityAnalyzer\n",
    "import matplotlib.pyplot as plt\n",
    "%matplotlib inline"
   ]
  },
  {
   "cell_type": "code",
   "execution_count": 2,
   "metadata": {},
   "outputs": [],
   "source": [
    "# load the tweets csv file\n",
    "tweets_df = pd.read_csv('_us_elections2020.csv')"
   ]
  },
  {
   "cell_type": "code",
   "execution_count": 3,
   "metadata": {},
   "outputs": [
    {
     "name": "stdout",
     "output_type": "stream",
     "text": [
      "<class 'pandas.core.frame.DataFrame'>\n",
      "RangeIndex: 215231 entries, 0 to 215230\n",
      "Data columns (total 9 columns):\n",
      " #   Column                Non-Null Count   Dtype  \n",
      "---  ------                --------------   -----  \n",
      " 0   created_at            215231 non-null  object \n",
      " 1   id                    215231 non-null  int64  \n",
      " 2   full_text             215231 non-null  object \n",
      " 3   source                215230 non-null  object \n",
      " 4   user.id               215231 non-null  int64  \n",
      " 5   user.name             215224 non-null  object \n",
      " 6   user.location         150903 non-null  object \n",
      " 7   user.followers_count  215231 non-null  int64  \n",
      " 8   user.lang             0 non-null       float64\n",
      "dtypes: float64(1), int64(3), object(5)\n",
      "memory usage: 14.8+ MB\n"
     ]
    }
   ],
   "source": [
    "# information about the dataframe\n",
    "tweets_df.info()"
   ]
  },
  {
   "cell_type": "code",
   "execution_count": 4,
   "metadata": {},
   "outputs": [],
   "source": [
    "# drop tweets that have the source column empty\n",
    "tweets_df = tweets_df.dropna(subset = ['source'])"
   ]
  },
  {
   "cell_type": "code",
   "execution_count": 5,
   "metadata": {},
   "outputs": [],
   "source": [
    "# get the source of the tweets\n",
    "tweets_df['tweet_source'] = tweets_df['source'].apply(lambda x: BeautifulSoup(x).get_text())"
   ]
  },
  {
   "cell_type": "code",
   "execution_count": 6,
   "metadata": {},
   "outputs": [],
   "source": [
    "# get all the tweets whose source starts with Twitter\n",
    "# most of the tweets that are tweeted by humans have sources starting from twitter\n",
    "x = tweets_df[tweets_df.tweet_source.str.startswith('Twitter') ==True]"
   ]
  },
  {
   "cell_type": "code",
   "execution_count": 7,
   "metadata": {},
   "outputs": [
    {
     "data": {
      "text/html": [
       "<div>\n",
       "<style scoped>\n",
       "    .dataframe tbody tr th:only-of-type {\n",
       "        vertical-align: middle;\n",
       "    }\n",
       "\n",
       "    .dataframe tbody tr th {\n",
       "        vertical-align: top;\n",
       "    }\n",
       "\n",
       "    .dataframe thead th {\n",
       "        text-align: right;\n",
       "    }\n",
       "</style>\n",
       "<table border=\"1\" class=\"dataframe\">\n",
       "  <thead>\n",
       "    <tr style=\"text-align: right;\">\n",
       "      <th></th>\n",
       "      <th>tweet_source</th>\n",
       "    </tr>\n",
       "  </thead>\n",
       "  <tbody>\n",
       "    <tr>\n",
       "      <th>Twitter for iPhone</th>\n",
       "      <td>62837</td>\n",
       "    </tr>\n",
       "    <tr>\n",
       "      <th>Twitter Web App</th>\n",
       "      <td>52192</td>\n",
       "    </tr>\n",
       "    <tr>\n",
       "      <th>Twitter for Android</th>\n",
       "      <td>38133</td>\n",
       "    </tr>\n",
       "    <tr>\n",
       "      <th>Twitter Web Client</th>\n",
       "      <td>25731</td>\n",
       "    </tr>\n",
       "    <tr>\n",
       "      <th>Twitter for iPad</th>\n",
       "      <td>11527</td>\n",
       "    </tr>\n",
       "    <tr>\n",
       "      <th>Twitter Media Studio</th>\n",
       "      <td>135</td>\n",
       "    </tr>\n",
       "    <tr>\n",
       "      <th>Twitter for Mac</th>\n",
       "      <td>107</td>\n",
       "    </tr>\n",
       "    <tr>\n",
       "      <th>Twitter for Advertisers</th>\n",
       "      <td>105</td>\n",
       "    </tr>\n",
       "    <tr>\n",
       "      <th>Twitterrific for iOS</th>\n",
       "      <td>91</td>\n",
       "    </tr>\n",
       "    <tr>\n",
       "      <th>Twitterrific for Mac</th>\n",
       "      <td>19</td>\n",
       "    </tr>\n",
       "    <tr>\n",
       "      <th>Twitter for Gucci Microwave XL</th>\n",
       "      <td>15</td>\n",
       "    </tr>\n",
       "    <tr>\n",
       "      <th>Twitter Media Studio - LiveCut</th>\n",
       "      <td>9</td>\n",
       "    </tr>\n",
       "    <tr>\n",
       "      <th>Twitter Ads</th>\n",
       "      <td>8</td>\n",
       "    </tr>\n",
       "    <tr>\n",
       "      <th>Twitter bot (coded)</th>\n",
       "      <td>5</td>\n",
       "    </tr>\n",
       "    <tr>\n",
       "      <th>Twitter Updates Assistant</th>\n",
       "      <td>4</td>\n",
       "    </tr>\n",
       "    <tr>\n",
       "      <th>TwitterCast by FastCast4u</th>\n",
       "      <td>2</td>\n",
       "    </tr>\n",
       "    <tr>\n",
       "      <th>Twitter SMS</th>\n",
       "      <td>2</td>\n",
       "    </tr>\n",
       "    <tr>\n",
       "      <th>Twitter for Barbie Dream Phone</th>\n",
       "      <td>1</td>\n",
       "    </tr>\n",
       "    <tr>\n",
       "      <th>Twitter Auto Post - @stradiost11</th>\n",
       "      <td>1</td>\n",
       "    </tr>\n",
       "    <tr>\n",
       "      <th>TwitterBotDev99</th>\n",
       "      <td>1</td>\n",
       "    </tr>\n",
       "  </tbody>\n",
       "</table>\n",
       "</div>"
      ],
      "text/plain": [
       "                                  tweet_source\n",
       "Twitter for iPhone                       62837\n",
       "Twitter Web App                          52192\n",
       "Twitter for Android                      38133\n",
       "Twitter Web Client                       25731\n",
       "Twitter for iPad                         11527\n",
       "Twitter Media Studio                       135\n",
       "Twitter for Mac                            107\n",
       "Twitter for Advertisers                    105\n",
       "Twitterrific for iOS                        91\n",
       "Twitterrific for Mac                        19\n",
       "Twitter for Gucci Microwave XL              15\n",
       "Twitter Media Studio - LiveCut               9\n",
       "Twitter Ads                                  8\n",
       "Twitter bot (coded)                          5\n",
       "Twitter Updates Assistant                    4\n",
       "TwitterCast by FastCast4u                    2\n",
       "Twitter SMS                                  2\n",
       "Twitter for Barbie Dream Phone               1\n",
       "Twitter Auto Post - @stradiost11             1\n",
       "TwitterBotDev99                              1"
      ]
     },
     "execution_count": 7,
     "metadata": {},
     "output_type": "execute_result"
    }
   ],
   "source": [
    "# check the distribution of tweets amoung sources\n",
    "y = pd.DataFrame(x.tweet_source.value_counts())\n",
    "y"
   ]
  },
  {
   "cell_type": "code",
   "execution_count": 8,
   "metadata": {},
   "outputs": [
    {
     "data": {
      "text/plain": [
       "['Twitter for iPhone',\n",
       " 'Twitter Web App',\n",
       " 'Twitter for Android',\n",
       " 'Twitter Web Client',\n",
       " 'Twitter for iPad',\n",
       " 'Twitter Media Studio',\n",
       " 'Twitter for Mac']"
      ]
     },
     "execution_count": 8,
     "metadata": {},
     "output_type": "execute_result"
    }
   ],
   "source": [
    "# we can see that the top 7 columns are human tweet sources\n",
    "z = y.head(7)\n",
    "devices = list(z.index)\n",
    "devices"
   ]
  },
  {
   "cell_type": "code",
   "execution_count": 9,
   "metadata": {},
   "outputs": [
    {
     "data": {
      "text/plain": [
       "(190662, 10)"
      ]
     },
     "execution_count": 9,
     "metadata": {},
     "output_type": "execute_result"
    }
   ],
   "source": [
    "# only keep tweets that are made by humans\n",
    "tweets_df = tweets_df[tweets_df['tweet_source'].isin(devices)]\n",
    "tweets_df.shape"
   ]
  },
  {
   "cell_type": "code",
   "execution_count": 10,
   "metadata": {},
   "outputs": [],
   "source": [
    "# to process data for sentiment analysis first preprocessing is required\n",
    "# tokenize the tweets\n",
    "tweets_df['tokens']=tweets_df['full_text'].apply(TweetTokenizer().tokenize)"
   ]
  },
  {
   "cell_type": "code",
   "execution_count": 11,
   "metadata": {},
   "outputs": [],
   "source": [
    "# remove the words like 'is','of','are', etc. that are not useful\n",
    "stopwords_vocabulary = stopwords.words('english')\n",
    "tweets_df['stopwords'] = tweets_df['tokens'].apply(lambda x:[i for i in x if i.lower() not in stopwords_vocabulary])"
   ]
  },
  {
   "cell_type": "code",
   "execution_count": 12,
   "metadata": {},
   "outputs": [],
   "source": [
    "# remove punctuation\n",
    "punctuations = list(string.punctuation)\n",
    "tweets_df['punctuation'] = tweets_df['stopwords'].apply(lambda x: [i for i in x if i[0] not in punctuations])\n",
    "tweets_df['digits'] = tweets_df['punctuation'].apply(lambda x: [i for i in x if i[0] not in list(string.digits)])\n",
    "tweets_df['final'] = tweets_df['digits'].apply(lambda x: [i for i in x if len(i)>1])"
   ]
  },
  {
   "cell_type": "code",
   "execution_count": 13,
   "metadata": {},
   "outputs": [],
   "source": [
    "# define the function\n",
    "sentiment = SentimentIntensityAnalyzer()\n",
    "# get the compound scores using the analyser\n",
    "tweets_df['sentiment'] = tweets_df.full_text.apply(lambda x: sentiment.polarity_scores(x)['compound'])"
   ]
  },
  {
   "cell_type": "code",
   "execution_count": 14,
   "metadata": {},
   "outputs": [],
   "source": [
    "# define positive, negative and neutral score to plot data\n",
    "pos = len(tweets_df[tweets_df.sentiment > 0])\n",
    "neg = len(tweets_df[tweets_df.sentiment < 0])\n",
    "neu = len(tweets_df[tweets_df.sentiment == 0])"
   ]
  },
  {
   "cell_type": "code",
   "execution_count": 15,
   "metadata": {},
   "outputs": [
    {
     "data": {
      "image/png": "[encoded data removed]",
      "text/plain": [
       "<Figure size 432x288 with 1 Axes>"
      ]
     },
     "metadata": {
      "needs_background": "light"
     },
     "output_type": "display_data"
    }
   ],
   "source": [
    "# plot a bar graph to show the distribution\n",
    "y = [pos, neu, neg]\n",
    "plt.title('Sentiment Analysis')\n",
    "plt.ylabel('Number of tweets')\n",
    "plt.xticks(range(len(y)),['positive','neutral','negative'])\n",
    "plt.bar(range(len(y)),height = y,width = 0.75, align = 'center',alpha = 0.8 )\n",
    "plt.show()"
   ]
  }
 ],
 "metadata": {
  "kernelspec": {
   "display_name": "Python 3",
   "language": "python",
   "name": "python3"
  },
  "language_info": {
   "codemirror_mode": {
    "name": "ipython",
    "version": 3
   },
   "file_extension": ".py",
   "mimetype": "text/x-python",
   "name": "python",
   "nbconvert_exporter": "python",
   "pygments_lexer": "ipython3",
   "version": "3.7.6"
  }
 },
 "nbformat": 4,
 "nbformat_minor": 4
}
